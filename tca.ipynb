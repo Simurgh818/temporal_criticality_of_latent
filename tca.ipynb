{
 "cells": [
  {
   "cell_type": "code",
   "execution_count": 1,
   "id": "ef428b56-f697-48d1-8ad7-f6e564f1eda2",
   "metadata": {},
   "outputs": [
    {
     "data": {
      "text/plain": [
       "'\\nrun_sliceTCA.py\\nLoads a .mat file with X (N×T×K) and runs sliceTCA:\\n   X[n,t,k] ≈ ∑ₙᵣ uₙ^{(r)} A_{t,k}^{(r)}\\n            + ∑ₜᵣ vₜ^{(r)} B_{n,k}^{(r)}\\n            + ∑ₖʳ wₖ^{(r)} C_{n,t}^{(r)}\\n(see Pellegrino et al. eq. (4)) :contentReference[oaicite:2]{index=2}&#8203;:contentReference[oaicite:3]{index=3}.\\n'"
      ]
     },
     "execution_count": 1,
     "metadata": {},
     "output_type": "execute_result"
    }
   ],
   "source": [
    "#!/usr/bin/env python\n",
    "\"\"\"\n",
    "run_sliceTCA.py\n",
    "Loads a .mat file with X (N×T×K) and runs sliceTCA:\n",
    "   X[n,t,k] ≈ ∑ₙᵣ uₙ^{(r)} A_{t,k}^{(r)}\n",
    "            + ∑ₜᵣ vₜ^{(r)} B_{n,k}^{(r)}\n",
    "            + ∑ₖʳ wₖ^{(r)} C_{n,t}^{(r)}\n",
    "(see Pellegrino et al. eq. (4)) :contentReference[oaicite:2]{index=2}&#8203;:contentReference[oaicite:3]{index=3}.\n",
    "\"\"\""
   ]
  },
  {
   "cell_type": "code",
   "execution_count": 2,
   "id": "44593eae-836b-486b-9727-83be3d2dddd9",
   "metadata": {},
   "outputs": [
    {
     "ename": "ModuleNotFoundError",
     "evalue": "No module named 'torch'",
     "output_type": "error",
     "traceback": [
      "\u001b[1;31m---------------------------------------------------------------------------\u001b[0m",
      "\u001b[1;31mModuleNotFoundError\u001b[0m                       Traceback (most recent call last)",
      "\u001b[1;32m~\\AppData\\Local\\Temp\\ipykernel_39212\\1908371142.py\u001b[0m in \u001b[0;36m<module>\u001b[1;34m\u001b[0m\n\u001b[0;32m      2\u001b[0m \u001b[1;32mimport\u001b[0m \u001b[0mnumpy\u001b[0m \u001b[1;32mas\u001b[0m \u001b[0mnp\u001b[0m\u001b[1;33m\u001b[0m\u001b[1;33m\u001b[0m\u001b[0m\n\u001b[0;32m      3\u001b[0m \u001b[1;32mimport\u001b[0m \u001b[0mscipy\u001b[0m\u001b[1;33m.\u001b[0m\u001b[0mio\u001b[0m \u001b[1;32mas\u001b[0m \u001b[0msio\u001b[0m\u001b[1;33m\u001b[0m\u001b[1;33m\u001b[0m\u001b[0m\n\u001b[1;32m----> 4\u001b[1;33m \u001b[1;32mimport\u001b[0m \u001b[0mtorch\u001b[0m\u001b[1;33m\u001b[0m\u001b[1;33m\u001b[0m\u001b[0m\n\u001b[0m\u001b[0;32m      5\u001b[0m \u001b[1;32mfrom\u001b[0m \u001b[0mslicetca\u001b[0m \u001b[1;32mimport\u001b[0m \u001b[0mSliceTCA\u001b[0m        \u001b[1;31m# pip install slicetca_paper :contentReference[oaicite:4]{index=4}&#8203;:contentReference[oaicite:5]{index=5}\u001b[0m\u001b[1;33m\u001b[0m\u001b[1;33m\u001b[0m\u001b[0m\n",
      "\u001b[1;31mModuleNotFoundError\u001b[0m: No module named 'torch'"
     ]
    }
   ],
   "source": [
    "import sys\n",
    "import numpy as np\n",
    "import scipy.io as sio\n",
    "import torch\n",
    "from slicetca import SliceTCA        # pip install slicetca_paper :contentReference[oaicite:4]{index=4}&#8203;:contentReference[oaicite:5]{index=5}"
   ]
  },
  {
   "cell_type": "code",
   "execution_count": 2,
   "id": "68d6639e-6bcf-4598-99c1-e3289b0599c6",
   "metadata": {},
   "outputs": [],
   "source": [
    "import tensortools as tt"
   ]
  },
  {
   "cell_type": "code",
   "execution_count": null,
   "id": "b839a065-7204-4605-a191-9fe06b7cc524",
   "metadata": {},
   "outputs": [],
   "source": [
    "# ————————————————\n",
    "# Load data\n",
    "# ————————————————\n",
    "mat = sio.loadmat(sys.argv[1])\n",
    "X = mat['X'].astype(np.float32)       # shape (N, T, K)"
   ]
  },
  {
   "cell_type": "code",
   "execution_count": null,
   "id": "eb74ff49-ffd3-4030-9c86-f4ec59425dac",
   "metadata": {},
   "outputs": [],
   "source": [
    "# ————————————————\n",
    "# Hyperparameters\n",
    "# ————————————————\n",
    "R_neuron = 2    # e.g. start with 2 neuron‐slicing comps\n",
    "R_trial  = 4    # e.g. 4 trial‐slicing comps\n",
    "R_time   = 1    # e.g. 1 time‐slicing comp"
   ]
  },
  {
   "cell_type": "code",
   "execution_count": null,
   "id": "6c6757e8-d624-4cc7-adac-6c8e5fad83b2",
   "metadata": {},
   "outputs": [],
   "source": [
    "# ————————————————\n",
    "# Initialize and fit model\n",
    "# ————————————————\n",
    "device = 'cuda' if torch.cuda.is_available() else 'cpu'\n",
    "model = SliceTCA(\n",
    "    R=(R_neuron, R_trial, R_time),\n",
    "    nonneg=False,\n",
    "    lr=0.02,\n",
    "    device=device\n",
    ")"
   ]
  },
  {
   "cell_type": "code",
   "execution_count": null,
   "id": "3a4c9893-2ffc-40b5-b81a-a255870309e9",
   "metadata": {},
   "outputs": [],
   "source": [
    "# cross‐validation could be added here by masking blocks before fitting\n",
    "model.fit(X, n_iter=300)"
   ]
  },
  {
   "cell_type": "code",
   "execution_count": null,
   "id": "3fe86fec-5444-46f1-9665-1c2acceb28b3",
   "metadata": {},
   "outputs": [],
   "source": [
    "# ————————————————\n",
    "# Extract components\n",
    "# ————————————————\n",
    "U, A = model.get_neuron_slicing()   # U: (N, R_neuron), A: (T, K, R_neuron)\n",
    "V, B = model.get_time_slicing()     # V: (T, R_time),   B: (N, K, R_time)\n",
    "W, C = model.get_trial_slicing()    # W: (K, R_trial),  C: (N, T, R_trial)"
   ]
  },
  {
   "cell_type": "code",
   "execution_count": null,
   "id": "1ecfe3de-e5a1-4dd0-9396-b3d8bbeb5551",
   "metadata": {},
   "outputs": [],
   "source": [
    "# ————————————————\n",
    "# Save results\n",
    "# ————————————————\n",
    "sio.savemat(sys.argv[2], {\n",
    "    'U': U, 'A': A,\n",
    "    'V': V, 'B': B,\n",
    "    'W': W, 'C': C,\n",
    "    'reconstruction': model.reconstruct()\n",
    "})\n",
    "print(\"sliceTCA complete. Results saved to\", sys.argv[2])"
   ]
  }
 ],
 "metadata": {
  "kernelspec": {
   "display_name": "Python 3 (ipykernel)",
   "language": "python",
   "name": "python3"
  },
  "language_info": {
   "codemirror_mode": {
    "name": "ipython",
    "version": 3
   },
   "file_extension": ".py",
   "mimetype": "text/x-python",
   "name": "python",
   "nbconvert_exporter": "python",
   "pygments_lexer": "ipython3",
   "version": "3.7.16"
  }
 },
 "nbformat": 4,
 "nbformat_minor": 5
}
